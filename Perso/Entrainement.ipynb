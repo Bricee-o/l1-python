{
 "cells": [
  {
   "cell_type": "markdown",
   "metadata": {},
   "source": [
    "- Revoir listes en général (Surtout listes en comprhéension), diiferences entre append() et extend() par exemple\n",
    "- Revoir exokholles.py + refaire carre magique et syracuse \n",
    "- Revoir td3.py fonctions et refaire qq exos.\n",
    "- Revoir for x in y:\n",
    "        for j in x etc...\n",
    "- Revoir propriétés et  def des diiférents types (listes etc..), plus revoir le CC (le refaire !)\n",
    "- Refaire les exos de td\n",
    "- Les listes sont mutables."
   ]
  },
  {
   "cell_type": "code",
   "execution_count": 1,
   "metadata": {},
   "outputs": [
    {
     "data": {
      "text/plain": [
       "'Listes'"
      ]
     },
     "execution_count": 1,
     "metadata": {},
     "output_type": "execute_result"
    }
   ],
   "source": [
    "'Exo Listes'\n",
    "\n"
   ]
  },
  {
   "cell_type": "markdown",
   "metadata": {},
   "source": [
    "Conseils qcm:\n",
    "- Executer son code ligne par ligne au brouillon\n",
    "- Pas de réponses actives\n",
    "- Feuille A4 recto verso autorisé comme aide mémoire et brouillon\n",
    "- Avoir du blanco au cas où erreur de réponse"
   ]
  },
  {
   "cell_type": "code",
   "execution_count": 1,
   "metadata": {},
   "outputs": [
    {
     "name": "stdout",
     "output_type": "stream",
     "text": [
      "[1, 2, 2, 5]\n",
      "[1, 4, 5]\n"
     ]
    }
   ],
   "source": [
    "a=[1,2,2,2,2,4,5]\n",
    "print(a[::2])\n",
    "for i in a:\n",
    "    a.remove(2)\n",
    "print(a)"
   ]
  }
 ],
 "metadata": {
  "kernelspec": {
   "display_name": "Python 3.9.12 ('base')",
   "language": "python",
   "name": "python3"
  },
  "language_info": {
   "codemirror_mode": {
    "name": "ipython",
    "version": 3
   },
   "file_extension": ".py",
   "mimetype": "text/x-python",
   "name": "python",
   "nbconvert_exporter": "python",
   "pygments_lexer": "ipython3",
   "version": "3.9.12"
  },
  "orig_nbformat": 4,
  "vscode": {
   "interpreter": {
    "hash": "a63285744713d521fb46c8603bc74ddfe097bc2b5bbc436250c8588fe86930ba"
   }
  }
 },
 "nbformat": 4,
 "nbformat_minor": 2
}
