{
 "cells": [
  {
   "cell_type": "markdown",
   "metadata": {},
   "source": [
    "C'est un fichier de test"
   ]
  },
  {
   "cell_type": "code",
   "execution_count": 3,
   "metadata": {},
   "outputs": [
    {
     "name": "stdout",
     "output_type": "stream",
     "text": [
      "[[4, 14, 15, 1], [9, 7, 6, 12], [5, 11, 10, 8], [16, 2, 3, 13]]\n"
     ]
    }
   ],
   "source": [
    "\n",
    "l=[[4,14,15,1],[9,7,6,12],[5,11,10,8],[16,2,3,13]]\n",
    "\n",
    "carre_mag=[]\n",
    "carre_pas_mag=[]\n",
    "\n",
    "for i in range (len(l)):\n",
    "    carre_mag.append(l[i])\n",
    "    \n",
    "for i in range(len(l)):\n",
    "    carre_pas_mag.append(l[i])\n",
    "\n",
    "print(carre_mag) "
   ]
  },
  {
   "cell_type": "code",
   "execution_count": null,
   "metadata": {},
   "outputs": [],
   "source": [
    "def testcolonnes(carre):\n",
    "    c1=[lignes[0] for lignes in carre]\n",
    "    somme=sum(c1)\n",
    "    for j in range(1,len(carre)):\n",
    "        colonne=[lignes[j] for lignes in carre]\n",
    "        if sum(colonne)!=somme:\n",
    "            return -1\n",
    "    return somme"
   ]
  },
  {
   "cell_type": "code",
   "execution_count": null,
   "metadata": {},
   "outputs": [],
   "source": []
  }
 ],
 "metadata": {
  "kernelspec": {
   "display_name": "Python 3.9.12 ('base')",
   "language": "python",
   "name": "python3"
  },
  "language_info": {
   "codemirror_mode": {
    "name": "ipython",
    "version": 3
   },
   "file_extension": ".py",
   "mimetype": "text/x-python",
   "name": "python",
   "nbconvert_exporter": "python",
   "pygments_lexer": "ipython3",
   "version": "3.9.12"
  },
  "orig_nbformat": 4,
  "vscode": {
   "interpreter": {
    "hash": "a63285744713d521fb46c8603bc74ddfe097bc2b5bbc436250c8588fe86930ba"
   }
  }
 },
 "nbformat": 4,
 "nbformat_minor": 2
}
